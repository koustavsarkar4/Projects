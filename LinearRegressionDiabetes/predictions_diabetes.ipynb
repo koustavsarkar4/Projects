{
 "cells": [
  {
   "cell_type": "code",
   "execution_count": 1,
   "id": "e2c508ca",
   "metadata": {},
   "outputs": [
    {
     "ename": "SyntaxError",
     "evalue": "(unicode error) 'unicodeescape' codec can't decode bytes in position 2-3: truncated \\UXXXXXXXX escape (1514420770.py, line 4)",
     "output_type": "error",
     "traceback": [
      "\u001b[1;36m  Cell \u001b[1;32mIn[1], line 4\u001b[1;36m\u001b[0m\n\u001b[1;33m    data = np.genfromtxt(\"C:\\Users\\koust\\Downloads\\0000000000002329_training_diabetes_x_y_train (1).csv\",delimiter = ',')\u001b[0m\n\u001b[1;37m                                                                                                        ^\u001b[0m\n\u001b[1;31mSyntaxError\u001b[0m\u001b[1;31m:\u001b[0m (unicode error) 'unicodeescape' codec can't decode bytes in position 2-3: truncated \\UXXXXXXXX escape\n"
     ]
    }
   ],
   "source": [
    "import numpy as np\n",
    "from sklearn import model_selection\n",
    "from sklearn.linear_model import LinearRegression\n",
    "data = np.genfromtxt(\"C:\\Users\\koust\\Downloads\\0000000000002329_training_diabetes_x_y_train (1).csv\",delimiter = ',')\n",
    "print(data)"
   ]
  },
  {
   "cell_type": "code",
   "execution_count": 2,
   "id": "5790b4f2",
   "metadata": {},
   "outputs": [
    {
     "name": "stdout",
     "output_type": "stream",
     "text": [
      "[[-4.91050164e-02 -4.46416365e-02  1.60854917e-01 ...  2.80165065e-02\n",
      "   1.13486232e-02  3.46000000e+02]\n",
      " [-7.09002471e-02  5.06801187e-02 -8.91974838e-02 ... -1.29079423e-02\n",
      "  -5.49250874e-02  1.04000000e+02]\n",
      " [ 1.75052192e-03 -4.46416365e-02 -7.08746786e-02 ... -2.25121719e-02\n",
      "   7.20651633e-03  4.90000000e+01]\n",
      " ...\n",
      " [ 2.35457526e-02 -4.46416365e-02  7.03187031e-02 ... -1.91970476e-02\n",
      "  -9.36191133e-03  2.88000000e+02]\n",
      " [ 1.62806757e-02  5.06801187e-02  7.24743273e-02 ... -2.36445576e-02\n",
      "   6.10539062e-02  1.31000000e+02]\n",
      " [-9.14709343e-03  5.06801187e-02 -3.09956318e-02 ...  6.20931562e-03\n",
      "   2.79170509e-02  4.20000000e+01]]\n"
     ]
    }
   ],
   "source": [
    "import numpy as np\n",
    "from sklearn import model_selection\n",
    "from sklearn.linear_model import LinearRegression\n",
    "data = np.genfromtxt(\"C:/Users/koust/Downloads/0000000000002329_training_diabetes_x_y_train (1).csv\",delimiter = ',')\n",
    "print(data)"
   ]
  },
  {
   "cell_type": "code",
   "execution_count": 3,
   "id": "5284de99",
   "metadata": {},
   "outputs": [
    {
     "name": "stdout",
     "output_type": "stream",
     "text": [
      "-0.005\n",
      "0.07\n"
     ]
    }
   ],
   "source": [
    "import numpy as np\n",
    "from sklearn import model_selection\n",
    "from sklearn.linear_model import LinearRegression\n",
    "data = np.genfromtxt(\"C:/Users/koust/Downloads/0000000000002329_training_diabetes_x_y_train (1).csv\",delimiter = ',')\n",
    "X = data[:,0].reshape(-1,1)\n",
    "Y = data[:,1]\n",
    "X_train,X_test, Y_train, Y_test = model_selection.train_test_split(X,Y,test_size = 0.3, random_state = 42)\n",
    "\n",
    "alg = LinearRegression()\n",
    "alg.fit(X_train,Y_train)\n",
    "\n",
    "print(round(alg.score(X_test, Y_test),3))\n",
    "print(round(alg.score(X_train, Y_train),3))"
   ]
  },
  {
   "cell_type": "code",
   "execution_count": 13,
   "id": "5bf8216e",
   "metadata": {},
   "outputs": [
    {
     "data": {
      "text/plain": [
       "array([[101.49133158],\n",
       "       [108.66520072],\n",
       "       [186.50524159],\n",
       "       [ 80.22373187],\n",
       "       [ 49.12149756],\n",
       "       [100.02008328],\n",
       "       [155.04974131],\n",
       "       [ 30.63158282],\n",
       "       [118.86210808],\n",
       "       [168.41846133],\n",
       "       [139.33834849],\n",
       "       [ 91.14491152],\n",
       "       [140.36084689],\n",
       "       [137.22621876],\n",
       "       [154.94559475],\n",
       "       [172.419845  ],\n",
       "       [109.21195129],\n",
       "       [100.55076846],\n",
       "       [100.33025128],\n",
       "       [162.04811659],\n",
       "       [168.19978078],\n",
       "       [102.63871752],\n",
       "       [257.46627332],\n",
       "       [158.27721595],\n",
       "       [205.86611041],\n",
       "       [167.42443423],\n",
       "       [216.42024377],\n",
       "       [ 79.56983453],\n",
       "       [179.93817345],\n",
       "       [212.43054777],\n",
       "       [217.32843938],\n",
       "       [156.20507866],\n",
       "       [117.44970547],\n",
       "       [172.94427798],\n",
       "       [ 83.34740542],\n",
       "       [ 60.93087819],\n",
       "       [110.35790061],\n",
       "       [155.33606706],\n",
       "       [153.9004312 ],\n",
       "       [205.02111298],\n",
       "       [117.77891015],\n",
       "       [150.95607175],\n",
       "       [ 82.57368433],\n",
       "       [110.1631706 ],\n",
       "       [143.25988369],\n",
       "       [150.69996992],\n",
       "       [ 80.27821767],\n",
       "       [ 81.89449932],\n",
       "       [124.18546267],\n",
       "       [269.48454982],\n",
       "       [223.59958177],\n",
       "       [263.02987204],\n",
       "       [155.48833568],\n",
       "       [167.90806309],\n",
       "       [156.32762447],\n",
       "       [198.7740393 ],\n",
       "       [214.6311314 ],\n",
       "       [181.3657294 ],\n",
       "       [171.27234315],\n",
       "       [110.04630566],\n",
       "       [280.07822222],\n",
       "       [ 86.56038621],\n",
       "       [308.09726994],\n",
       "       [105.36425532],\n",
       "       [ 75.07092195],\n",
       "       [175.89611969],\n",
       "       [148.00736637],\n",
       "       [145.85642879],\n",
       "       [ 38.55071608],\n",
       "       [272.32653395],\n",
       "       [215.42400778],\n",
       "       [ 95.69669185],\n",
       "       [228.43454957],\n",
       "       [184.39967709],\n",
       "       [180.67174053],\n",
       "       [160.42518251],\n",
       "       [185.66101488],\n",
       "       [103.97110049],\n",
       "       [196.01044259],\n",
       "       [246.88618222],\n",
       "       [128.24567512],\n",
       "       [117.56210005],\n",
       "       [153.11028888],\n",
       "       [203.09763247],\n",
       "       [152.0901593 ],\n",
       "       [135.72255646],\n",
       "       [143.40387668],\n",
       "       [115.05002768],\n",
       "       [132.81109488],\n",
       "       [112.6448468 ],\n",
       "       [205.41607595],\n",
       "       [163.97738355],\n",
       "       [127.73245383],\n",
       "       [ 62.01515463],\n",
       "       [230.83673185],\n",
       "       [173.82213661],\n",
       "       [185.11448711],\n",
       "       [ 79.89949223],\n",
       "       [203.25353566],\n",
       "       [224.4739006 ],\n",
       "       [106.03024785],\n",
       "       [ 84.51676062],\n",
       "       [128.42588926],\n",
       "       [233.99753893],\n",
       "       [162.49091024],\n",
       "       [119.26338215],\n",
       "       [263.19708269],\n",
       "       [230.29774127],\n",
       "       [188.03313336],\n",
       "       [165.54772059],\n",
       "       [166.27245219]])"
      ]
     },
     "execution_count": 13,
     "metadata": {},
     "output_type": "execute_result"
    }
   ],
   "source": [
    "import numpy as np\n",
    "from sklearn import model_selection\n",
    "from sklearn.linear_model import LinearRegression\n",
    "\n",
    "data = np.genfromtxt(\"C:/Users/koust/Downloads/0000000000002329_training_diabetes_x_y_train (1).csv\",delimiter = ',')\n",
    "\n",
    "X = data[:,0:10]\n",
    "Y = data[:,10]\n",
    "\n",
    "X_train,X_test, Y_train, Y_test = model_selection.train_test_split(X,Y,test_size = 0.3, random_state = 42)\n",
    "\n",
    "alg = LinearRegression()\n",
    "alg.fit(X_train,Y_train)\n",
    "\n",
    "m = alg.coef_\n",
    "c = alg.intercept_\n",
    "\n",
    "test_data = np.genfromtxt(\"C:/Users/koust/Downloads/0000000000002329_test_diabetes_x_test.csv\",delimiter = ',')\n",
    "\n",
    "l = []\n",
    "\n",
    "for i in range(len(test_data)):\n",
    "    y_pred = (m*test_data[i]).sum() + c\n",
    "    l.append(y_pred)\n",
    "    \n",
    "np_l = np.array(l)\n",
    "\n",
    "np_l = np_l.reshape(-1,1)\n",
    "\n",
    "np.savetxt('predictions.csv',np_l,delimiter = ',')"
   ]
  },
  {
   "cell_type": "code",
   "execution_count": null,
   "id": "00ef5f82",
   "metadata": {},
   "outputs": [],
   "source": []
  }
 ],
 "metadata": {
  "kernelspec": {
   "display_name": "Python 3 (ipykernel)",
   "language": "python",
   "name": "python3"
  },
  "language_info": {
   "codemirror_mode": {
    "name": "ipython",
    "version": 3
   },
   "file_extension": ".py",
   "mimetype": "text/x-python",
   "name": "python",
   "nbconvert_exporter": "python",
   "pygments_lexer": "ipython3",
   "version": "3.11.5"
  }
 },
 "nbformat": 4,
 "nbformat_minor": 5
}
