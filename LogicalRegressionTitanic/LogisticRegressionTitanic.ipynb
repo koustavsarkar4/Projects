{
 "cells": [
  {
   "cell_type": "code",
   "execution_count": 11,
   "id": "da0be128",
   "metadata": {
    "scrolled": true
   },
   "outputs": [
    {
     "name": "stderr",
     "output_type": "stream",
     "text": [
      "C:\\Users\\koust\\AppData\\Local\\Temp\\ipykernel_22076\\2244231837.py:28: SettingWithCopyWarning: \n",
      "A value is trying to be set on a copy of a slice from a DataFrame\n",
      "\n",
      "See the caveats in the documentation: https://pandas.pydata.org/pandas-docs/stable/user_guide/indexing.html#returning-a-view-versus-a-copy\n",
      "  titanic_train.Embarked[titanic_train['Embarked']== 'S'] = 0 #working with the Embarked column, replacing S,C and Q with 0,1 and 2 repectively\n",
      "C:\\Users\\koust\\AppData\\Local\\Temp\\ipykernel_22076\\2244231837.py:29: SettingWithCopyWarning: \n",
      "A value is trying to be set on a copy of a slice from a DataFrame\n",
      "\n",
      "See the caveats in the documentation: https://pandas.pydata.org/pandas-docs/stable/user_guide/indexing.html#returning-a-view-versus-a-copy\n",
      "  titanic_train.Embarked[titanic_train['Embarked']== 'C'] = 1\n",
      "C:\\Users\\koust\\AppData\\Local\\Temp\\ipykernel_22076\\2244231837.py:30: SettingWithCopyWarning: \n",
      "A value is trying to be set on a copy of a slice from a DataFrame\n",
      "\n",
      "See the caveats in the documentation: https://pandas.pydata.org/pandas-docs/stable/user_guide/indexing.html#returning-a-view-versus-a-copy\n",
      "  titanic_train.Embarked[titanic_train['Embarked']== 'Q'] = 2\n",
      "C:\\Users\\koust\\AppData\\Local\\Temp\\ipykernel_22076\\2244231837.py:31: SettingWithCopyWarning: \n",
      "A value is trying to be set on a copy of a slice from a DataFrame\n",
      "\n",
      "See the caveats in the documentation: https://pandas.pydata.org/pandas-docs/stable/user_guide/indexing.html#returning-a-view-versus-a-copy\n",
      "  titanic_test.Embarked[titanic_test['Embarked']== 'S'] = 0\n",
      "C:\\Users\\koust\\AppData\\Local\\Temp\\ipykernel_22076\\2244231837.py:32: SettingWithCopyWarning: \n",
      "A value is trying to be set on a copy of a slice from a DataFrame\n",
      "\n",
      "See the caveats in the documentation: https://pandas.pydata.org/pandas-docs/stable/user_guide/indexing.html#returning-a-view-versus-a-copy\n",
      "  titanic_test.Embarked[titanic_test['Embarked']== 'C'] = 1\n",
      "C:\\Users\\koust\\AppData\\Local\\Temp\\ipykernel_22076\\2244231837.py:33: SettingWithCopyWarning: \n",
      "A value is trying to be set on a copy of a slice from a DataFrame\n",
      "\n",
      "See the caveats in the documentation: https://pandas.pydata.org/pandas-docs/stable/user_guide/indexing.html#returning-a-view-versus-a-copy\n",
      "  titanic_test.Embarked[titanic_test['Embarked']== 'Q'] = 2\n"
     ]
    },
    {
     "name": "stdout",
     "output_type": "stream",
     "text": [
      "[0 1 0 1 1 0 0 0 1 0 1 0 1 1 0 0 0 0 0 1 1 0 1 1 0 1 0 0 1 1 0 0 0 0 0 1 1\n",
      " 0 0 0 1 0 0 0 1 1 0 1 0 0 0 1 1 1 0 0 0 0 0 0 0 0 1 1 1 0 0 0 1 0 0 0 1 0\n",
      " 0 1 1 0 0 0 0 1 0 0 0 1 1 1 0 0 1 0 0 1 0 0 0 0 0 1 1 0 1 0 1 1 0 0 0 0 0\n",
      " 1 1 0 1 0 0 1 0 0 0 0 0 0 0 0 0 0 0 1 0 0 0 0 0 0 1 1 1 0 0 0 1 0 0 0 0 0\n",
      " 1 1 1 0 0 0 1 0 0 1 0 0 0 1 1 1 1 0 0 0 1 1 1 1 1 0 1 0 0 0 0 1 0 0 0 1 1\n",
      " 0 1 0 1 0 0 0 1 0 0 1 1 1 1 1 0 1 0 0 0 0 0 0 1 1 0 1 0 0 1 1 0 0 0 0 1 0\n",
      " 0]\n"
     ]
    },
    {
     "name": "stderr",
     "output_type": "stream",
     "text": [
      "D:\\Anaconda\\Lib\\site-packages\\sklearn\\linear_model\\_logistic.py:460: ConvergenceWarning: lbfgs failed to converge (status=1):\n",
      "STOP: TOTAL NO. of ITERATIONS REACHED LIMIT.\n",
      "\n",
      "Increase the number of iterations (max_iter) or scale the data as shown in:\n",
      "    https://scikit-learn.org/stable/modules/preprocessing.html\n",
      "Please also refer to the documentation for alternative solver options:\n",
      "    https://scikit-learn.org/stable/modules/linear_model.html#logistic-regression\n",
      "  n_iter_i = _check_optimize_result(\n"
     ]
    }
   ],
   "source": [
    "import numpy as np\n",
    "import pandas as pd\n",
    "from sklearn import model_selection\n",
    "from sklearn.linear_model import LogisticRegression\n",
    "\n",
    "titanic_train = pd.read_csv(\"C:/Users/koust/Downloads/0000000000002429_training_titanic_x_y_train.csv\", delimiter = ',')\n",
    "titanic_test = pd.read_csv(\"C:/Users/koust/Downloads/0000000000002429_test_titanic_x_test.csv\",delimiter = ',')\n",
    "\n",
    "titanic_train.Cabin.fillna(value = 0,inplace = True) #working with the values of the Cabin column\n",
    "titanic_train.Cabin[titanic_train['Cabin'] != 0] = 1\n",
    "titanic_test.Cabin.fillna(value = 0,inplace = True)\n",
    "titanic_test.Cabin[titanic_test['Cabin'] != 0] = 1\n",
    "\n",
    "\n",
    "titanic_train.Sex.replace(to_replace = 'male', value = 0, inplace = True) #working with the values of the Sex column\n",
    "titanic_train.Sex.replace(to_replace = 'female', value = 1, inplace = True)\n",
    "titanic_test.Sex.replace(to_replace = 'male', value = 0, inplace = True) \n",
    "titanic_test.Sex.replace(to_replace = 'female', value = 1, inplace = True)\n",
    "\n",
    "titanic_train.Age.fillna(value = titanic_train.Age.mean(), inplace = True)#filling null values of the Age column with the mean\n",
    "titanic_test.Age.fillna(value = titanic_train.Age.mean(), inplace = True)\n",
    "\n",
    "titanic_train.drop(columns = 'Name', inplace = True) #dropping Name and Ticket columns\n",
    "titanic_train.drop(columns = 'Ticket', inplace = True)\n",
    "titanic_test.drop(columns = 'Name', inplace = True) \n",
    "titanic_test.drop(columns = 'Ticket', inplace = True)\n",
    "\n",
    "titanic_train.Embarked[titanic_train['Embarked']== 'S'] = 0 #working with the Embarked column, replacing S,C and Q with 0,1 and 2 repectively\n",
    "titanic_train.Embarked[titanic_train['Embarked']== 'C'] = 1\n",
    "titanic_train.Embarked[titanic_train['Embarked']== 'Q'] = 2\n",
    "titanic_test.Embarked[titanic_test['Embarked']== 'S'] = 0 \n",
    "titanic_test.Embarked[titanic_test['Embarked']== 'C'] = 1\n",
    "titanic_test.Embarked[titanic_test['Embarked']== 'Q'] = 2\n",
    "\n",
    "titanic_train.Embarked.fillna(value = 0, inplace = True)  #null value filled with 0\n",
    "titanic_test.Embarked.fillna(value = 0, inplace = True)\n",
    "\n",
    "\n",
    "x = titanic_train.iloc[:,: -1] \n",
    "y = titanic_train.iloc[:,-1]\n",
    "\n",
    "pred = titanic_test.iloc[:,:]\n",
    "\n",
    "\n",
    "clf = LogisticRegression()\n",
    "clf.fit(x,y)\n",
    "ans = clf.predict(pred)\n",
    "print(ans)\n",
    "\n",
    "np.savetxt(X = ans, delimiter = ',', fname = 'prediction_titanic.csv', fmt = '%.0f')"
   ]
  },
  {
   "cell_type": "code",
   "execution_count": null,
   "id": "acb0bcc8",
   "metadata": {},
   "outputs": [],
   "source": []
  }
 ],
 "metadata": {
  "kernelspec": {
   "display_name": "Python 3 (ipykernel)",
   "language": "python",
   "name": "python3"
  },
  "language_info": {
   "codemirror_mode": {
    "name": "ipython",
    "version": 3
   },
   "file_extension": ".py",
   "mimetype": "text/x-python",
   "name": "python",
   "nbconvert_exporter": "python",
   "pygments_lexer": "ipython3",
   "version": "3.11.5"
  }
 },
 "nbformat": 4,
 "nbformat_minor": 5
}
